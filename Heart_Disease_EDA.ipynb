{
 "cells": [
  {
   "cell_type": "markdown",
   "id": "975aabd4",
   "metadata": {},
   "source": [
    "# Heart Disease Prediction with Python\n",
    "#### Author: <a href=\"https://tonmoy-talukder.netlify.app/\">Tonmoy Talukder</a>\n",
    "CS Undergrad, <a href=\"https://www.aust.edu/\"> AUST</a>, Dhaka 1208, Bangladesh"
   ]
  },
  {
   "cell_type": "markdown",
   "id": "4c720d95",
   "metadata": {},
   "source": [
    "## Dataset Reference: \n",
    "<a href=\"https://archive.ics.uci.edu/ml/datasets/heart+disease\">Browse The Dataset</a>"
   ]
  },
  {
   "cell_type": "markdown",
   "id": "3ccd2771",
   "metadata": {},
   "source": [
    "**Objectives:**\n",
    "- Decision Tree Classification\n",
    "- Cross-Validation"
   ]
  },
  {
   "cell_type": "markdown",
   "id": "26deea9e",
   "metadata": {},
   "source": [
    "### Import required libraries"
   ]
  },
  {
   "cell_type": "code",
   "execution_count": 184,
   "id": "78b893ec",
   "metadata": {},
   "outputs": [
    {
     "name": "stdout",
     "output_type": "stream",
     "text": [
      "sklearn version:  0.24.1\n"
     ]
    }
   ],
   "source": [
    "import pandas as pd\n",
    "import numpy as np\n",
    "from sklearn.model_selection import train_test_split\n",
    "\n",
    "from sklearn.tree import DecisionTreeClassifier\n",
    "from sklearn.tree import plot_tree\n",
    "from sklearn.metrics import plot_confusion_matrix\n",
    "from sklearn.model_selection import GridSearchCV\n",
    "\n",
    "from sklearn.metrics import accuracy_score, classification_report, confusion_matrix\n",
    "from sklearn.metrics import roc_curve, roc_auc_score, precision_score, recall_score, f1_score\n",
    "\n",
    "from sklearn.metrics import accuracy_score, classification_report, confusion_matrix\n",
    "from sklearn.metrics import roc_curve, roc_auc_score, precision_score, recall_score, f1_score\n",
    "from sklearn.metrics import plot_confusion_matrix\n",
    "\n",
    "import matplotlib.pyplot as plt\n",
    "import seaborn as sns\n",
    "\n",
    "import warnings #to igonre the warnings\n",
    "warnings.filterwarnings('ignore')\n",
    "\n",
    "\n",
    "# check for the sklearn version\n",
    "import sklearn\n",
    "print(\"sklearn version: \",sklearn.__version__)"
   ]
  },
  {
   "cell_type": "markdown",
   "id": "e848d506",
   "metadata": {},
   "source": [
    "### Loading Dataset\n",
    "**Dataset Source:** <a href=\"https://archive.ics.uci.edu/ml/datasets/heart+disease\">Browse Here</a>"
   ]
  },
  {
   "cell_type": "code",
   "execution_count": 185,
   "id": "38450649",
   "metadata": {},
   "outputs": [
    {
     "data": {
      "text/html": [
       "<div>\n",
       "<style scoped>\n",
       "    .dataframe tbody tr th:only-of-type {\n",
       "        vertical-align: middle;\n",
       "    }\n",
       "\n",
       "    .dataframe tbody tr th {\n",
       "        vertical-align: top;\n",
       "    }\n",
       "\n",
       "    .dataframe thead th {\n",
       "        text-align: right;\n",
       "    }\n",
       "</style>\n",
       "<table border=\"1\" class=\"dataframe\">\n",
       "  <thead>\n",
       "    <tr style=\"text-align: right;\">\n",
       "      <th></th>\n",
       "      <th>0</th>\n",
       "      <th>1</th>\n",
       "      <th>2</th>\n",
       "      <th>3</th>\n",
       "      <th>4</th>\n",
       "      <th>5</th>\n",
       "      <th>6</th>\n",
       "      <th>7</th>\n",
       "      <th>8</th>\n",
       "      <th>9</th>\n",
       "      <th>10</th>\n",
       "      <th>11</th>\n",
       "      <th>12</th>\n",
       "      <th>13</th>\n",
       "    </tr>\n",
       "  </thead>\n",
       "  <tbody>\n",
       "    <tr>\n",
       "      <th>0</th>\n",
       "      <td>63.0</td>\n",
       "      <td>1.0</td>\n",
       "      <td>1.0</td>\n",
       "      <td>145.0</td>\n",
       "      <td>233.0</td>\n",
       "      <td>1.0</td>\n",
       "      <td>2.0</td>\n",
       "      <td>150.0</td>\n",
       "      <td>0.0</td>\n",
       "      <td>2.3</td>\n",
       "      <td>3.0</td>\n",
       "      <td>0.0</td>\n",
       "      <td>6.0</td>\n",
       "      <td>0</td>\n",
       "    </tr>\n",
       "    <tr>\n",
       "      <th>1</th>\n",
       "      <td>67.0</td>\n",
       "      <td>1.0</td>\n",
       "      <td>4.0</td>\n",
       "      <td>160.0</td>\n",
       "      <td>286.0</td>\n",
       "      <td>0.0</td>\n",
       "      <td>2.0</td>\n",
       "      <td>108.0</td>\n",
       "      <td>1.0</td>\n",
       "      <td>1.5</td>\n",
       "      <td>2.0</td>\n",
       "      <td>3.0</td>\n",
       "      <td>3.0</td>\n",
       "      <td>2</td>\n",
       "    </tr>\n",
       "    <tr>\n",
       "      <th>2</th>\n",
       "      <td>67.0</td>\n",
       "      <td>1.0</td>\n",
       "      <td>4.0</td>\n",
       "      <td>120.0</td>\n",
       "      <td>229.0</td>\n",
       "      <td>0.0</td>\n",
       "      <td>2.0</td>\n",
       "      <td>129.0</td>\n",
       "      <td>1.0</td>\n",
       "      <td>2.6</td>\n",
       "      <td>2.0</td>\n",
       "      <td>2.0</td>\n",
       "      <td>7.0</td>\n",
       "      <td>1</td>\n",
       "    </tr>\n",
       "    <tr>\n",
       "      <th>3</th>\n",
       "      <td>37.0</td>\n",
       "      <td>1.0</td>\n",
       "      <td>3.0</td>\n",
       "      <td>130.0</td>\n",
       "      <td>250.0</td>\n",
       "      <td>0.0</td>\n",
       "      <td>0.0</td>\n",
       "      <td>187.0</td>\n",
       "      <td>0.0</td>\n",
       "      <td>3.5</td>\n",
       "      <td>3.0</td>\n",
       "      <td>0.0</td>\n",
       "      <td>3.0</td>\n",
       "      <td>0</td>\n",
       "    </tr>\n",
       "    <tr>\n",
       "      <th>4</th>\n",
       "      <td>41.0</td>\n",
       "      <td>0.0</td>\n",
       "      <td>2.0</td>\n",
       "      <td>130.0</td>\n",
       "      <td>204.0</td>\n",
       "      <td>0.0</td>\n",
       "      <td>2.0</td>\n",
       "      <td>172.0</td>\n",
       "      <td>0.0</td>\n",
       "      <td>1.4</td>\n",
       "      <td>1.0</td>\n",
       "      <td>0.0</td>\n",
       "      <td>3.0</td>\n",
       "      <td>0</td>\n",
       "    </tr>\n",
       "  </tbody>\n",
       "</table>\n",
       "</div>"
      ],
      "text/plain": [
       "     0    1    2      3      4    5    6      7    8    9    10   11   12  13\n",
       "0  63.0  1.0  1.0  145.0  233.0  1.0  2.0  150.0  0.0  2.3  3.0  0.0  6.0   0\n",
       "1  67.0  1.0  4.0  160.0  286.0  0.0  2.0  108.0  1.0  1.5  2.0  3.0  3.0   2\n",
       "2  67.0  1.0  4.0  120.0  229.0  0.0  2.0  129.0  1.0  2.6  2.0  2.0  7.0   1\n",
       "3  37.0  1.0  3.0  130.0  250.0  0.0  0.0  187.0  0.0  3.5  3.0  0.0  3.0   0\n",
       "4  41.0  0.0  2.0  130.0  204.0  0.0  2.0  172.0  0.0  1.4  1.0  0.0  3.0   0"
      ]
     },
     "metadata": {},
     "output_type": "display_data"
    }
   ],
   "source": [
    "df = pd.read_csv(\"processed.cleveland.data\", header=None, na_values=\"?\")\n",
    "df = df.dropna()\n",
    "display(df.head())"
   ]
  },
  {
   "cell_type": "code",
   "execution_count": 186,
   "id": "f50f296e",
   "metadata": {},
   "outputs": [
    {
     "name": "stdout",
     "output_type": "stream",
     "text": [
      "(297, 14)\n"
     ]
    }
   ],
   "source": [
    "print(df.shape)"
   ]
  },
  {
   "cell_type": "markdown",
   "id": "fb0d1c4d",
   "metadata": {},
   "source": [
    "> **The dataset has 14 rows ans 297 columns**"
   ]
  },
  {
   "cell_type": "markdown",
   "id": "ca69ace3",
   "metadata": {},
   "source": [
    "#### Rename the column names"
   ]
  },
  {
   "cell_type": "code",
   "execution_count": 187,
   "id": "8b48bafa",
   "metadata": {},
   "outputs": [
    {
     "data": {
      "text/html": [
       "<div>\n",
       "<style scoped>\n",
       "    .dataframe tbody tr th:only-of-type {\n",
       "        vertical-align: middle;\n",
       "    }\n",
       "\n",
       "    .dataframe tbody tr th {\n",
       "        vertical-align: top;\n",
       "    }\n",
       "\n",
       "    .dataframe thead th {\n",
       "        text-align: right;\n",
       "    }\n",
       "</style>\n",
       "<table border=\"1\" class=\"dataframe\">\n",
       "  <thead>\n",
       "    <tr style=\"text-align: right;\">\n",
       "      <th></th>\n",
       "      <th>age</th>\n",
       "      <th>sex</th>\n",
       "      <th>cp</th>\n",
       "      <th>trestbps</th>\n",
       "      <th>chol</th>\n",
       "      <th>fbs</th>\n",
       "      <th>restecg</th>\n",
       "      <th>thalach</th>\n",
       "      <th>exang</th>\n",
       "      <th>oldpeak</th>\n",
       "      <th>slope</th>\n",
       "      <th>ca</th>\n",
       "      <th>thal</th>\n",
       "      <th>hd</th>\n",
       "    </tr>\n",
       "  </thead>\n",
       "  <tbody>\n",
       "    <tr>\n",
       "      <th>0</th>\n",
       "      <td>63.0</td>\n",
       "      <td>1.0</td>\n",
       "      <td>1.0</td>\n",
       "      <td>145.0</td>\n",
       "      <td>233.0</td>\n",
       "      <td>1.0</td>\n",
       "      <td>2.0</td>\n",
       "      <td>150.0</td>\n",
       "      <td>0.0</td>\n",
       "      <td>2.3</td>\n",
       "      <td>3.0</td>\n",
       "      <td>0.0</td>\n",
       "      <td>6.0</td>\n",
       "      <td>0</td>\n",
       "    </tr>\n",
       "    <tr>\n",
       "      <th>1</th>\n",
       "      <td>67.0</td>\n",
       "      <td>1.0</td>\n",
       "      <td>4.0</td>\n",
       "      <td>160.0</td>\n",
       "      <td>286.0</td>\n",
       "      <td>0.0</td>\n",
       "      <td>2.0</td>\n",
       "      <td>108.0</td>\n",
       "      <td>1.0</td>\n",
       "      <td>1.5</td>\n",
       "      <td>2.0</td>\n",
       "      <td>3.0</td>\n",
       "      <td>3.0</td>\n",
       "      <td>2</td>\n",
       "    </tr>\n",
       "    <tr>\n",
       "      <th>2</th>\n",
       "      <td>67.0</td>\n",
       "      <td>1.0</td>\n",
       "      <td>4.0</td>\n",
       "      <td>120.0</td>\n",
       "      <td>229.0</td>\n",
       "      <td>0.0</td>\n",
       "      <td>2.0</td>\n",
       "      <td>129.0</td>\n",
       "      <td>1.0</td>\n",
       "      <td>2.6</td>\n",
       "      <td>2.0</td>\n",
       "      <td>2.0</td>\n",
       "      <td>7.0</td>\n",
       "      <td>1</td>\n",
       "    </tr>\n",
       "    <tr>\n",
       "      <th>3</th>\n",
       "      <td>37.0</td>\n",
       "      <td>1.0</td>\n",
       "      <td>3.0</td>\n",
       "      <td>130.0</td>\n",
       "      <td>250.0</td>\n",
       "      <td>0.0</td>\n",
       "      <td>0.0</td>\n",
       "      <td>187.0</td>\n",
       "      <td>0.0</td>\n",
       "      <td>3.5</td>\n",
       "      <td>3.0</td>\n",
       "      <td>0.0</td>\n",
       "      <td>3.0</td>\n",
       "      <td>0</td>\n",
       "    </tr>\n",
       "    <tr>\n",
       "      <th>4</th>\n",
       "      <td>41.0</td>\n",
       "      <td>0.0</td>\n",
       "      <td>2.0</td>\n",
       "      <td>130.0</td>\n",
       "      <td>204.0</td>\n",
       "      <td>0.0</td>\n",
       "      <td>2.0</td>\n",
       "      <td>172.0</td>\n",
       "      <td>0.0</td>\n",
       "      <td>1.4</td>\n",
       "      <td>1.0</td>\n",
       "      <td>0.0</td>\n",
       "      <td>3.0</td>\n",
       "      <td>0</td>\n",
       "    </tr>\n",
       "  </tbody>\n",
       "</table>\n",
       "</div>"
      ],
      "text/plain": [
       "    age  sex   cp  trestbps   chol  fbs  restecg  thalach  exang  oldpeak  \\\n",
       "0  63.0  1.0  1.0     145.0  233.0  1.0      2.0    150.0    0.0      2.3   \n",
       "1  67.0  1.0  4.0     160.0  286.0  0.0      2.0    108.0    1.0      1.5   \n",
       "2  67.0  1.0  4.0     120.0  229.0  0.0      2.0    129.0    1.0      2.6   \n",
       "3  37.0  1.0  3.0     130.0  250.0  0.0      0.0    187.0    0.0      3.5   \n",
       "4  41.0  0.0  2.0     130.0  204.0  0.0      2.0    172.0    0.0      1.4   \n",
       "\n",
       "   slope   ca  thal  hd  \n",
       "0    3.0  0.0   6.0   0  \n",
       "1    2.0  3.0   3.0   2  \n",
       "2    2.0  2.0   7.0   1  \n",
       "3    3.0  0.0   3.0   0  \n",
       "4    1.0  0.0   3.0   0  "
      ]
     },
     "metadata": {},
     "output_type": "display_data"
    }
   ],
   "source": [
    "df.columns = ['age', 'sex', 'cp', 'trestbps', 'chol', 'fbs', \n",
    "              'restecg', 'thalach', 'exang', 'oldpeak', \n",
    "              'slope', 'ca', 'thal', 'hd']\n",
    "\n",
    "display(df.head())"
   ]
  },
  {
   "cell_type": "markdown",
   "id": "1781e2a9",
   "metadata": {},
   "source": [
    "### Dataset Information "
   ]
  },
  {
   "cell_type": "code",
   "execution_count": 188,
   "id": "7244eab7",
   "metadata": {},
   "outputs": [
    {
     "name": "stdout",
     "output_type": "stream",
     "text": [
      "<class 'pandas.core.frame.DataFrame'>\n",
      "Int64Index: 297 entries, 0 to 301\n",
      "Data columns (total 14 columns):\n",
      " #   Column    Non-Null Count  Dtype  \n",
      "---  ------    --------------  -----  \n",
      " 0   age       297 non-null    float64\n",
      " 1   sex       297 non-null    float64\n",
      " 2   cp        297 non-null    float64\n",
      " 3   trestbps  297 non-null    float64\n",
      " 4   chol      297 non-null    float64\n",
      " 5   fbs       297 non-null    float64\n",
      " 6   restecg   297 non-null    float64\n",
      " 7   thalach   297 non-null    float64\n",
      " 8   exang     297 non-null    float64\n",
      " 9   oldpeak   297 non-null    float64\n",
      " 10  slope     297 non-null    float64\n",
      " 11  ca        297 non-null    float64\n",
      " 12  thal      297 non-null    float64\n",
      " 13  hd        297 non-null    int64  \n",
      "dtypes: float64(13), int64(1)\n",
      "memory usage: 34.8 KB\n"
     ]
    }
   ],
   "source": [
    "df.info()"
   ]
  },
  {
   "cell_type": "markdown",
   "id": "6521a97d",
   "metadata": {},
   "source": [
    "**Columns Understanding:**\n",
    "\n",
    "> **age:** age in years\n",
    "> <br>**sex:** sex (1 = male; 0 = female)\n",
    "> <br>**cp:** chest pain type\n",
    "> - 1 = typical angina\n",
    "> - 2 = atypical angina\n",
    "> - 3 = non-anginal pain\n",
    "> - 4 = asymptomatic\n",
    "> \n",
    "> <br>**trestbps:** resting blood pressure (in mm Hg on admission to the hospital)\n",
    "> <br>**chol:** serum cholestoral in mg/dl\n",
    "> <br>**fbs:** (fasting blood sugar > 120 mg/dl) (1 = true; 0 = false)\n",
    "> <br>**restecg:** resting electrocardiographic results\n",
    "> - 0 = normal\n",
    "> - 1 = having ST-T wave abnormality (T wave inversions and/or ST elevation or depression of > 0.05 mV)\n",
    "> - 2 = showing probable or definite left ventricular hypertrophy by Estes' criteria\n",
    "> \n",
    "> <br>**thalach:** maximum heart rate achieved\n",
    "> <br>**exang:** exercise induced angina (1 = yes; 0 = no)\n",
    "> <br>**oldpeak:** ST depression induced by exercise relative to rest\n",
    "> <br>**slope:** the slope of the peak exercise ST segment\n",
    "> - 1 = upsloping\n",
    "> - 2 = flat\n",
    "> - 3 = downsloping\n",
    "> \n",
    "> <br>**ca:** number of major vessels (0-3) colored by flourosopy\n",
    "> <br>**thal:** 3 = normal; 6 = fixed defect; 7 = reversable defect\n",
    "> <br>**hd:** heart disease \n",
    "\n",
    "*These are the **fourteen features** of this dataset.*"
   ]
  },
  {
   "cell_type": "markdown",
   "id": "0be84e0e",
   "metadata": {},
   "source": [
    "#### Checking categorical variables"
   ]
  },
  {
   "cell_type": "code",
   "execution_count": 189,
   "id": "0cc3a77e",
   "metadata": {},
   "outputs": [
    {
     "data": {
      "text/plain": [
       "4.0    142\n",
       "3.0     83\n",
       "2.0     49\n",
       "1.0     23\n",
       "Name: cp, dtype: int64"
      ]
     },
     "execution_count": 189,
     "metadata": {},
     "output_type": "execute_result"
    }
   ],
   "source": [
    "df['cp'].value_counts()"
   ]
  },
  {
   "cell_type": "code",
   "execution_count": 190,
   "id": "3a7aee1d",
   "metadata": {},
   "outputs": [
    {
     "data": {
      "text/plain": [
       "0.0    147\n",
       "2.0    146\n",
       "1.0      4\n",
       "Name: restecg, dtype: int64"
      ]
     },
     "execution_count": 190,
     "metadata": {},
     "output_type": "execute_result"
    }
   ],
   "source": [
    "df['restecg'].value_counts()"
   ]
  },
  {
   "cell_type": "markdown",
   "id": "f170f2f9",
   "metadata": {},
   "source": [
    "### Checking missing value "
   ]
  },
  {
   "cell_type": "code",
   "execution_count": 191,
   "id": "847cf821",
   "metadata": {},
   "outputs": [
    {
     "data": {
      "text/plain": [
       "age         0\n",
       "sex         0\n",
       "cp          0\n",
       "trestbps    0\n",
       "chol        0\n",
       "fbs         0\n",
       "restecg     0\n",
       "thalach     0\n",
       "exang       0\n",
       "oldpeak     0\n",
       "slope       0\n",
       "ca          0\n",
       "thal        0\n",
       "hd          0\n",
       "dtype: int64"
      ]
     },
     "execution_count": 191,
     "metadata": {},
     "output_type": "execute_result"
    }
   ],
   "source": [
    "#check missing value \n",
    "df.isnull().sum()"
   ]
  },
  {
   "cell_type": "code",
   "execution_count": 192,
   "id": "fb2b1cce",
   "metadata": {},
   "outputs": [],
   "source": [
    "assert df.isnull().sum().sum() == 0"
   ]
  },
  {
   "cell_type": "markdown",
   "id": "964ce58a",
   "metadata": {},
   "source": [
    "> **There are no missing value in this dataset.**"
   ]
  },
  {
   "cell_type": "code",
   "execution_count": 193,
   "id": "da585b13",
   "metadata": {},
   "outputs": [
    {
     "data": {
      "text/html": [
       "<div>\n",
       "<style scoped>\n",
       "    .dataframe tbody tr th:only-of-type {\n",
       "        vertical-align: middle;\n",
       "    }\n",
       "\n",
       "    .dataframe tbody tr th {\n",
       "        vertical-align: top;\n",
       "    }\n",
       "\n",
       "    .dataframe thead th {\n",
       "        text-align: right;\n",
       "    }\n",
       "</style>\n",
       "<table border=\"1\" class=\"dataframe\">\n",
       "  <thead>\n",
       "    <tr style=\"text-align: right;\">\n",
       "      <th></th>\n",
       "      <th>Age</th>\n",
       "      <th>Sex</th>\n",
       "      <th>Chest_Pain</th>\n",
       "      <th>Resting_Blood_Pressure</th>\n",
       "      <th>Cholestoral</th>\n",
       "      <th>Fasting_Blood_Sugar</th>\n",
       "      <th>Rest_ECG</th>\n",
       "      <th>Max_Heart_Rate</th>\n",
       "      <th>Exercise_Induced_Aangina</th>\n",
       "      <th>Oldpeak</th>\n",
       "      <th>Slope</th>\n",
       "      <th>CA</th>\n",
       "      <th>Defectivity</th>\n",
       "      <th>Heart_disease</th>\n",
       "    </tr>\n",
       "  </thead>\n",
       "  <tbody>\n",
       "    <tr>\n",
       "      <th>0</th>\n",
       "      <td>63.0</td>\n",
       "      <td>1.0</td>\n",
       "      <td>1.0</td>\n",
       "      <td>145.0</td>\n",
       "      <td>233.0</td>\n",
       "      <td>1.0</td>\n",
       "      <td>2.0</td>\n",
       "      <td>150.0</td>\n",
       "      <td>0.0</td>\n",
       "      <td>2.3</td>\n",
       "      <td>3.0</td>\n",
       "      <td>0.0</td>\n",
       "      <td>6.0</td>\n",
       "      <td>0</td>\n",
       "    </tr>\n",
       "    <tr>\n",
       "      <th>1</th>\n",
       "      <td>67.0</td>\n",
       "      <td>1.0</td>\n",
       "      <td>4.0</td>\n",
       "      <td>160.0</td>\n",
       "      <td>286.0</td>\n",
       "      <td>0.0</td>\n",
       "      <td>2.0</td>\n",
       "      <td>108.0</td>\n",
       "      <td>1.0</td>\n",
       "      <td>1.5</td>\n",
       "      <td>2.0</td>\n",
       "      <td>3.0</td>\n",
       "      <td>3.0</td>\n",
       "      <td>2</td>\n",
       "    </tr>\n",
       "    <tr>\n",
       "      <th>2</th>\n",
       "      <td>67.0</td>\n",
       "      <td>1.0</td>\n",
       "      <td>4.0</td>\n",
       "      <td>120.0</td>\n",
       "      <td>229.0</td>\n",
       "      <td>0.0</td>\n",
       "      <td>2.0</td>\n",
       "      <td>129.0</td>\n",
       "      <td>1.0</td>\n",
       "      <td>2.6</td>\n",
       "      <td>2.0</td>\n",
       "      <td>2.0</td>\n",
       "      <td>7.0</td>\n",
       "      <td>1</td>\n",
       "    </tr>\n",
       "    <tr>\n",
       "      <th>3</th>\n",
       "      <td>37.0</td>\n",
       "      <td>1.0</td>\n",
       "      <td>3.0</td>\n",
       "      <td>130.0</td>\n",
       "      <td>250.0</td>\n",
       "      <td>0.0</td>\n",
       "      <td>0.0</td>\n",
       "      <td>187.0</td>\n",
       "      <td>0.0</td>\n",
       "      <td>3.5</td>\n",
       "      <td>3.0</td>\n",
       "      <td>0.0</td>\n",
       "      <td>3.0</td>\n",
       "      <td>0</td>\n",
       "    </tr>\n",
       "    <tr>\n",
       "      <th>4</th>\n",
       "      <td>41.0</td>\n",
       "      <td>0.0</td>\n",
       "      <td>2.0</td>\n",
       "      <td>130.0</td>\n",
       "      <td>204.0</td>\n",
       "      <td>0.0</td>\n",
       "      <td>2.0</td>\n",
       "      <td>172.0</td>\n",
       "      <td>0.0</td>\n",
       "      <td>1.4</td>\n",
       "      <td>1.0</td>\n",
       "      <td>0.0</td>\n",
       "      <td>3.0</td>\n",
       "      <td>0</td>\n",
       "    </tr>\n",
       "  </tbody>\n",
       "</table>\n",
       "</div>"
      ],
      "text/plain": [
       "    Age  Sex  Chest_Pain  Resting_Blood_Pressure  Cholestoral  \\\n",
       "0  63.0  1.0         1.0                   145.0        233.0   \n",
       "1  67.0  1.0         4.0                   160.0        286.0   \n",
       "2  67.0  1.0         4.0                   120.0        229.0   \n",
       "3  37.0  1.0         3.0                   130.0        250.0   \n",
       "4  41.0  0.0         2.0                   130.0        204.0   \n",
       "\n",
       "   Fasting_Blood_Sugar  Rest_ECG  Max_Heart_Rate  Exercise_Induced_Aangina  \\\n",
       "0                  1.0       2.0           150.0                       0.0   \n",
       "1                  0.0       2.0           108.0                       1.0   \n",
       "2                  0.0       2.0           129.0                       1.0   \n",
       "3                  0.0       0.0           187.0                       0.0   \n",
       "4                  0.0       2.0           172.0                       0.0   \n",
       "\n",
       "   Oldpeak  Slope   CA  Defectivity  Heart_disease  \n",
       "0      2.3    3.0  0.0          6.0              0  \n",
       "1      1.5    2.0  3.0          3.0              2  \n",
       "2      2.6    2.0  2.0          7.0              1  \n",
       "3      3.5    3.0  0.0          3.0              0  \n",
       "4      1.4    1.0  0.0          3.0              0  "
      ]
     },
     "metadata": {},
     "output_type": "display_data"
    }
   ],
   "source": [
    "# Renamimng the columns' names which are a little bit hard to understand\n",
    "df = df.rename(columns={'age':'Age', \n",
    "                        'sex':'Sex',\n",
    "                        'cp': 'Chest_Pain',\n",
    "                        'trestbps': 'Resting_Blood_Pressure',\n",
    "                        'chol': 'Cholestoral',\n",
    "                        'fbs': 'Fasting_Blood_Sugar',\n",
    "                        'restecg': 'Rest_ECG',\n",
    "                        'thalach': 'Max_Heart_Rate',\n",
    "                        'exang': 'Exercise_Induced_Aangina',\n",
    "                        'oldpeak': 'Oldpeak',\n",
    "                        'slope': 'Slope',\n",
    "                        'ca': 'CA',\n",
    "                        'thal': 'Defectivity',\n",
    "                        'hd': 'Heart_disease'})\n",
    "\n",
    "display(df.head())"
   ]
  },
  {
   "cell_type": "markdown",
   "id": "e087e14f",
   "metadata": {},
   "source": [
    "#### Target variable: 'hd'"
   ]
  },
  {
   "cell_type": "code",
   "execution_count": 194,
   "id": "ede42a7b",
   "metadata": {},
   "outputs": [
    {
     "name": "stdout",
     "output_type": "stream",
     "text": [
      "0    160\n",
      "1     54\n",
      "2     35\n",
      "3     35\n",
      "4     13\n",
      "Name: Heart_disease, dtype: int64\n"
     ]
    }
   ],
   "source": [
    "print(df['Heart_disease'].value_counts())"
   ]
  },
  {
   "cell_type": "code",
   "execution_count": 195,
   "id": "e6ec57fd",
   "metadata": {},
   "outputs": [
    {
     "name": "stdout",
     "output_type": "stream",
     "text": [
      "0    160\n",
      "1    137\n",
      "Name: Heart_disease, dtype: int64\n"
     ]
    }
   ],
   "source": [
    "df[df['Heart_disease'] > 1] = 1\n",
    "\n",
    "print(df['Heart_disease'].value_counts())"
   ]
  },
  {
   "cell_type": "code",
   "execution_count": 196,
   "id": "5ef891a0",
   "metadata": {},
   "outputs": [
    {
     "data": {
      "text/html": [
       "<div>\n",
       "<style scoped>\n",
       "    .dataframe tbody tr th:only-of-type {\n",
       "        vertical-align: middle;\n",
       "    }\n",
       "\n",
       "    .dataframe tbody tr th {\n",
       "        vertical-align: top;\n",
       "    }\n",
       "\n",
       "    .dataframe thead th {\n",
       "        text-align: right;\n",
       "    }\n",
       "</style>\n",
       "<table border=\"1\" class=\"dataframe\">\n",
       "  <thead>\n",
       "    <tr style=\"text-align: right;\">\n",
       "      <th></th>\n",
       "      <th>Age</th>\n",
       "      <th>Sex</th>\n",
       "      <th>Chest_Pain</th>\n",
       "      <th>Resting_Blood_Pressure</th>\n",
       "      <th>Cholestoral</th>\n",
       "      <th>Fasting_Blood_Sugar</th>\n",
       "      <th>Rest_ECG</th>\n",
       "      <th>Max_Heart_Rate</th>\n",
       "      <th>Exercise_Induced_Aangina</th>\n",
       "      <th>Oldpeak</th>\n",
       "      <th>Slope</th>\n",
       "      <th>CA</th>\n",
       "      <th>Defectivity</th>\n",
       "      <th>Heart_disease</th>\n",
       "    </tr>\n",
       "  </thead>\n",
       "  <tbody>\n",
       "    <tr>\n",
       "      <th>count</th>\n",
       "      <td>297.000000</td>\n",
       "      <td>297.000000</td>\n",
       "      <td>297.000000</td>\n",
       "      <td>297.000000</td>\n",
       "      <td>297.000000</td>\n",
       "      <td>297.000000</td>\n",
       "      <td>297.000000</td>\n",
       "      <td>297.000000</td>\n",
       "      <td>297.000000</td>\n",
       "      <td>297.000000</td>\n",
       "      <td>297.000000</td>\n",
       "      <td>297.000000</td>\n",
       "      <td>297.000000</td>\n",
       "      <td>297.000000</td>\n",
       "    </tr>\n",
       "    <tr>\n",
       "      <th>mean</th>\n",
       "      <td>38.750842</td>\n",
       "      <td>0.730640</td>\n",
       "      <td>2.390572</td>\n",
       "      <td>94.101010</td>\n",
       "      <td>176.754209</td>\n",
       "      <td>0.367003</td>\n",
       "      <td>0.942761</td>\n",
       "      <td>112.252525</td>\n",
       "      <td>0.437710</td>\n",
       "      <td>0.787879</td>\n",
       "      <td>1.336700</td>\n",
       "      <td>0.562290</td>\n",
       "      <td>3.286195</td>\n",
       "      <td>0.461279</td>\n",
       "    </tr>\n",
       "    <tr>\n",
       "      <th>std</th>\n",
       "      <td>24.818501</td>\n",
       "      <td>0.444376</td>\n",
       "      <td>1.197821</td>\n",
       "      <td>59.822795</td>\n",
       "      <td>117.816094</td>\n",
       "      <td>0.482801</td>\n",
       "      <td>0.846349</td>\n",
       "      <td>71.612180</td>\n",
       "      <td>0.496942</td>\n",
       "      <td>0.742977</td>\n",
       "      <td>0.546271</td>\n",
       "      <td>0.675582</td>\n",
       "      <td>2.083294</td>\n",
       "      <td>0.499340</td>\n",
       "    </tr>\n",
       "    <tr>\n",
       "      <th>min</th>\n",
       "      <td>1.000000</td>\n",
       "      <td>0.000000</td>\n",
       "      <td>1.000000</td>\n",
       "      <td>1.000000</td>\n",
       "      <td>1.000000</td>\n",
       "      <td>0.000000</td>\n",
       "      <td>0.000000</td>\n",
       "      <td>1.000000</td>\n",
       "      <td>0.000000</td>\n",
       "      <td>0.000000</td>\n",
       "      <td>1.000000</td>\n",
       "      <td>0.000000</td>\n",
       "      <td>1.000000</td>\n",
       "      <td>0.000000</td>\n",
       "    </tr>\n",
       "    <tr>\n",
       "      <th>25%</th>\n",
       "      <td>1.000000</td>\n",
       "      <td>0.000000</td>\n",
       "      <td>1.000000</td>\n",
       "      <td>1.000000</td>\n",
       "      <td>1.000000</td>\n",
       "      <td>0.000000</td>\n",
       "      <td>0.000000</td>\n",
       "      <td>1.000000</td>\n",
       "      <td>0.000000</td>\n",
       "      <td>0.000000</td>\n",
       "      <td>1.000000</td>\n",
       "      <td>0.000000</td>\n",
       "      <td>1.000000</td>\n",
       "      <td>0.000000</td>\n",
       "    </tr>\n",
       "    <tr>\n",
       "      <th>50%</th>\n",
       "      <td>48.000000</td>\n",
       "      <td>1.000000</td>\n",
       "      <td>2.000000</td>\n",
       "      <td>120.000000</td>\n",
       "      <td>218.000000</td>\n",
       "      <td>0.000000</td>\n",
       "      <td>1.000000</td>\n",
       "      <td>149.000000</td>\n",
       "      <td>0.000000</td>\n",
       "      <td>1.000000</td>\n",
       "      <td>1.000000</td>\n",
       "      <td>0.000000</td>\n",
       "      <td>3.000000</td>\n",
       "      <td>0.000000</td>\n",
       "    </tr>\n",
       "    <tr>\n",
       "      <th>75%</th>\n",
       "      <td>58.000000</td>\n",
       "      <td>1.000000</td>\n",
       "      <td>3.000000</td>\n",
       "      <td>135.000000</td>\n",
       "      <td>258.000000</td>\n",
       "      <td>1.000000</td>\n",
       "      <td>2.000000</td>\n",
       "      <td>164.000000</td>\n",
       "      <td>1.000000</td>\n",
       "      <td>1.000000</td>\n",
       "      <td>2.000000</td>\n",
       "      <td>1.000000</td>\n",
       "      <td>3.000000</td>\n",
       "      <td>1.000000</td>\n",
       "    </tr>\n",
       "    <tr>\n",
       "      <th>max</th>\n",
       "      <td>76.000000</td>\n",
       "      <td>1.000000</td>\n",
       "      <td>4.000000</td>\n",
       "      <td>192.000000</td>\n",
       "      <td>564.000000</td>\n",
       "      <td>1.000000</td>\n",
       "      <td>2.000000</td>\n",
       "      <td>202.000000</td>\n",
       "      <td>1.000000</td>\n",
       "      <td>4.200000</td>\n",
       "      <td>3.000000</td>\n",
       "      <td>3.000000</td>\n",
       "      <td>7.000000</td>\n",
       "      <td>1.000000</td>\n",
       "    </tr>\n",
       "  </tbody>\n",
       "</table>\n",
       "</div>"
      ],
      "text/plain": [
       "              Age         Sex  Chest_Pain  Resting_Blood_Pressure  \\\n",
       "count  297.000000  297.000000  297.000000              297.000000   \n",
       "mean    38.750842    0.730640    2.390572               94.101010   \n",
       "std     24.818501    0.444376    1.197821               59.822795   \n",
       "min      1.000000    0.000000    1.000000                1.000000   \n",
       "25%      1.000000    0.000000    1.000000                1.000000   \n",
       "50%     48.000000    1.000000    2.000000              120.000000   \n",
       "75%     58.000000    1.000000    3.000000              135.000000   \n",
       "max     76.000000    1.000000    4.000000              192.000000   \n",
       "\n",
       "       Cholestoral  Fasting_Blood_Sugar    Rest_ECG  Max_Heart_Rate  \\\n",
       "count   297.000000           297.000000  297.000000      297.000000   \n",
       "mean    176.754209             0.367003    0.942761      112.252525   \n",
       "std     117.816094             0.482801    0.846349       71.612180   \n",
       "min       1.000000             0.000000    0.000000        1.000000   \n",
       "25%       1.000000             0.000000    0.000000        1.000000   \n",
       "50%     218.000000             0.000000    1.000000      149.000000   \n",
       "75%     258.000000             1.000000    2.000000      164.000000   \n",
       "max     564.000000             1.000000    2.000000      202.000000   \n",
       "\n",
       "       Exercise_Induced_Aangina     Oldpeak       Slope          CA  \\\n",
       "count                297.000000  297.000000  297.000000  297.000000   \n",
       "mean                   0.437710    0.787879    1.336700    0.562290   \n",
       "std                    0.496942    0.742977    0.546271    0.675582   \n",
       "min                    0.000000    0.000000    1.000000    0.000000   \n",
       "25%                    0.000000    0.000000    1.000000    0.000000   \n",
       "50%                    0.000000    1.000000    1.000000    0.000000   \n",
       "75%                    1.000000    1.000000    2.000000    1.000000   \n",
       "max                    1.000000    4.200000    3.000000    3.000000   \n",
       "\n",
       "       Defectivity  Heart_disease  \n",
       "count   297.000000     297.000000  \n",
       "mean      3.286195       0.461279  \n",
       "std       2.083294       0.499340  \n",
       "min       1.000000       0.000000  \n",
       "25%       1.000000       0.000000  \n",
       "50%       3.000000       0.000000  \n",
       "75%       3.000000       1.000000  \n",
       "max       7.000000       1.000000  "
      ]
     },
     "metadata": {},
     "output_type": "display_data"
    }
   ],
   "source": [
    "display(df.describe())"
   ]
  },
  {
   "cell_type": "markdown",
   "id": "00de58ed",
   "metadata": {},
   "source": [
    "#### Create feature set and target"
   ]
  },
  {
   "cell_type": "code",
   "execution_count": 197,
   "id": "2ee1dac9",
   "metadata": {},
   "outputs": [
    {
     "name": "stdout",
     "output_type": "stream",
     "text": [
      "Features: (297, 13)\n",
      "Targets: (297, 1)\n"
     ]
    }
   ],
   "source": [
    "X = df.drop('Heart_disease', axis=1)\n",
    "y = df[['Heart_disease']]\n",
    "\n",
    "print(\"Features:\" ,X.shape)\n",
    "print(\"Targets:\" ,y.shape)"
   ]
  },
  {
   "cell_type": "markdown",
   "id": "ec1beeae",
   "metadata": {},
   "source": [
    "### One-hot Encoding"
   ]
  },
  {
   "cell_type": "code",
   "execution_count": 198,
   "id": "b9b8a91c",
   "metadata": {},
   "outputs": [
    {
     "data": {
      "text/html": [
       "<div>\n",
       "<style scoped>\n",
       "    .dataframe tbody tr th:only-of-type {\n",
       "        vertical-align: middle;\n",
       "    }\n",
       "\n",
       "    .dataframe tbody tr th {\n",
       "        vertical-align: top;\n",
       "    }\n",
       "\n",
       "    .dataframe thead th {\n",
       "        text-align: right;\n",
       "    }\n",
       "</style>\n",
       "<table border=\"1\" class=\"dataframe\">\n",
       "  <thead>\n",
       "    <tr style=\"text-align: right;\">\n",
       "      <th></th>\n",
       "      <th>Age</th>\n",
       "      <th>Sex</th>\n",
       "      <th>Resting_Blood_Pressure</th>\n",
       "      <th>Cholestoral</th>\n",
       "      <th>Fasting_Blood_Sugar</th>\n",
       "      <th>Max_Heart_Rate</th>\n",
       "      <th>Exercise_Induced_Aangina</th>\n",
       "      <th>Oldpeak</th>\n",
       "      <th>CA</th>\n",
       "      <th>Chest_Pain_2.0</th>\n",
       "      <th>Chest_Pain_3.0</th>\n",
       "      <th>Chest_Pain_4.0</th>\n",
       "      <th>Rest_ECG_1.0</th>\n",
       "      <th>Rest_ECG_2.0</th>\n",
       "      <th>Slope_2.0</th>\n",
       "      <th>Slope_3.0</th>\n",
       "      <th>Defectivity_3.0</th>\n",
       "      <th>Defectivity_6.0</th>\n",
       "      <th>Defectivity_7.0</th>\n",
       "    </tr>\n",
       "  </thead>\n",
       "  <tbody>\n",
       "    <tr>\n",
       "      <th>0</th>\n",
       "      <td>63.0</td>\n",
       "      <td>1.0</td>\n",
       "      <td>145.0</td>\n",
       "      <td>233.0</td>\n",
       "      <td>1.0</td>\n",
       "      <td>150.0</td>\n",
       "      <td>0.0</td>\n",
       "      <td>2.3</td>\n",
       "      <td>0.0</td>\n",
       "      <td>0</td>\n",
       "      <td>0</td>\n",
       "      <td>0</td>\n",
       "      <td>0</td>\n",
       "      <td>1</td>\n",
       "      <td>0</td>\n",
       "      <td>1</td>\n",
       "      <td>0</td>\n",
       "      <td>1</td>\n",
       "      <td>0</td>\n",
       "    </tr>\n",
       "    <tr>\n",
       "      <th>1</th>\n",
       "      <td>1.0</td>\n",
       "      <td>1.0</td>\n",
       "      <td>1.0</td>\n",
       "      <td>1.0</td>\n",
       "      <td>1.0</td>\n",
       "      <td>1.0</td>\n",
       "      <td>1.0</td>\n",
       "      <td>1.0</td>\n",
       "      <td>1.0</td>\n",
       "      <td>0</td>\n",
       "      <td>0</td>\n",
       "      <td>0</td>\n",
       "      <td>1</td>\n",
       "      <td>0</td>\n",
       "      <td>0</td>\n",
       "      <td>0</td>\n",
       "      <td>0</td>\n",
       "      <td>0</td>\n",
       "      <td>0</td>\n",
       "    </tr>\n",
       "    <tr>\n",
       "      <th>2</th>\n",
       "      <td>67.0</td>\n",
       "      <td>1.0</td>\n",
       "      <td>120.0</td>\n",
       "      <td>229.0</td>\n",
       "      <td>0.0</td>\n",
       "      <td>129.0</td>\n",
       "      <td>1.0</td>\n",
       "      <td>2.6</td>\n",
       "      <td>2.0</td>\n",
       "      <td>0</td>\n",
       "      <td>0</td>\n",
       "      <td>1</td>\n",
       "      <td>0</td>\n",
       "      <td>1</td>\n",
       "      <td>1</td>\n",
       "      <td>0</td>\n",
       "      <td>0</td>\n",
       "      <td>0</td>\n",
       "      <td>1</td>\n",
       "    </tr>\n",
       "    <tr>\n",
       "      <th>3</th>\n",
       "      <td>37.0</td>\n",
       "      <td>1.0</td>\n",
       "      <td>130.0</td>\n",
       "      <td>250.0</td>\n",
       "      <td>0.0</td>\n",
       "      <td>187.0</td>\n",
       "      <td>0.0</td>\n",
       "      <td>3.5</td>\n",
       "      <td>0.0</td>\n",
       "      <td>0</td>\n",
       "      <td>1</td>\n",
       "      <td>0</td>\n",
       "      <td>0</td>\n",
       "      <td>0</td>\n",
       "      <td>0</td>\n",
       "      <td>1</td>\n",
       "      <td>1</td>\n",
       "      <td>0</td>\n",
       "      <td>0</td>\n",
       "    </tr>\n",
       "    <tr>\n",
       "      <th>4</th>\n",
       "      <td>41.0</td>\n",
       "      <td>0.0</td>\n",
       "      <td>130.0</td>\n",
       "      <td>204.0</td>\n",
       "      <td>0.0</td>\n",
       "      <td>172.0</td>\n",
       "      <td>0.0</td>\n",
       "      <td>1.4</td>\n",
       "      <td>0.0</td>\n",
       "      <td>1</td>\n",
       "      <td>0</td>\n",
       "      <td>0</td>\n",
       "      <td>0</td>\n",
       "      <td>1</td>\n",
       "      <td>0</td>\n",
       "      <td>0</td>\n",
       "      <td>1</td>\n",
       "      <td>0</td>\n",
       "      <td>0</td>\n",
       "    </tr>\n",
       "  </tbody>\n",
       "</table>\n",
       "</div>"
      ],
      "text/plain": [
       "    Age  Sex  Resting_Blood_Pressure  Cholestoral  Fasting_Blood_Sugar  \\\n",
       "0  63.0  1.0                   145.0        233.0                  1.0   \n",
       "1   1.0  1.0                     1.0          1.0                  1.0   \n",
       "2  67.0  1.0                   120.0        229.0                  0.0   \n",
       "3  37.0  1.0                   130.0        250.0                  0.0   \n",
       "4  41.0  0.0                   130.0        204.0                  0.0   \n",
       "\n",
       "   Max_Heart_Rate  Exercise_Induced_Aangina  Oldpeak   CA  Chest_Pain_2.0  \\\n",
       "0           150.0                       0.0      2.3  0.0               0   \n",
       "1             1.0                       1.0      1.0  1.0               0   \n",
       "2           129.0                       1.0      2.6  2.0               0   \n",
       "3           187.0                       0.0      3.5  0.0               0   \n",
       "4           172.0                       0.0      1.4  0.0               1   \n",
       "\n",
       "   Chest_Pain_3.0  Chest_Pain_4.0  Rest_ECG_1.0  Rest_ECG_2.0  Slope_2.0  \\\n",
       "0               0               0             0             1          0   \n",
       "1               0               0             1             0          0   \n",
       "2               0               1             0             1          1   \n",
       "3               1               0             0             0          0   \n",
       "4               0               0             0             1          0   \n",
       "\n",
       "   Slope_3.0  Defectivity_3.0  Defectivity_6.0  Defectivity_7.0  \n",
       "0          1                0                1                0  \n",
       "1          0                0                0                0  \n",
       "2          0                0                0                1  \n",
       "3          1                1                0                0  \n",
       "4          0                1                0                0  "
      ]
     },
     "metadata": {},
     "output_type": "display_data"
    },
    {
     "name": "stdout",
     "output_type": "stream",
     "text": [
      "(297, 19)\n"
     ]
    }
   ],
   "source": [
    "X = pd.get_dummies(X, columns=['Chest_Pain', 'Rest_ECG', 'Slope', 'Defectivity'], drop_first=True)\n",
    "\n",
    "display(X.head())\n",
    "print(X.shape)"
   ]
  },
  {
   "cell_type": "markdown",
   "id": "67b97f36",
   "metadata": {},
   "source": [
    "#### Split the dataset intro train and test set"
   ]
  },
  {
   "cell_type": "code",
   "execution_count": 199,
   "id": "6ce8cd0d",
   "metadata": {},
   "outputs": [
    {
     "name": "stdout",
     "output_type": "stream",
     "text": [
      "(237, 19) (60, 19) (237, 1) (60, 1)\n"
     ]
    }
   ],
   "source": [
    "X_train, X_test, y_train, y_test = train_test_split(X, \n",
    "                                                    y, \n",
    "                                                    test_size=0.2, \n",
    "                                                    random_state=42, \n",
    "                                                    stratify=y)\n",
    "\n",
    "print(X_train.shape, X_test.shape, y_train.shape, y_test.shape)"
   ]
  },
  {
   "cell_type": "markdown",
   "id": "cbe378e6",
   "metadata": {},
   "source": [
    "### Stratification"
   ]
  },
  {
   "cell_type": "code",
   "execution_count": 200,
   "id": "d19a8d14",
   "metadata": {},
   "outputs": [
    {
     "name": "stdout",
     "output_type": "stream",
     "text": [
      "Training Ratio:  0.8515625\n"
     ]
    }
   ],
   "source": [
    "class_0_train = y_train['Heart_disease'].value_counts().values[0]\n",
    "class_1_train = y_train['Heart_disease'].value_counts().values[1]\n",
    "\n",
    "train_ratio = class_1_train/class_0_train\n",
    "print(\"Training Ratio: \",train_ratio)"
   ]
  },
  {
   "cell_type": "code",
   "execution_count": 201,
   "id": "6ba38818",
   "metadata": {},
   "outputs": [
    {
     "name": "stdout",
     "output_type": "stream",
     "text": [
      "Test Ratio:  0.875\n"
     ]
    }
   ],
   "source": [
    "class_0_test = y_test['Heart_disease'].value_counts().values[0]\n",
    "class_1_test = y_test['Heart_disease'].value_counts().values[1]\n",
    "\n",
    "test_ratio = class_1_test/class_0_test\n",
    "print(\"Test Ratio: \",test_ratio)"
   ]
  },
  {
   "cell_type": "markdown",
   "id": "80810da4",
   "metadata": {},
   "source": [
    "### Training: Decision Tree Classifier"
   ]
  },
  {
   "cell_type": "code",
   "execution_count": 202,
   "id": "69f3ff0d",
   "metadata": {},
   "outputs": [],
   "source": [
    "model_DT = DecisionTreeClassifier(random_state=42)\n",
    "model_DT = model_DT.fit(X_train, y_train)"
   ]
  },
  {
   "cell_type": "markdown",
   "id": "72d2e22a",
   "metadata": {},
   "source": [
    "#### Prediction"
   ]
  },
  {
   "cell_type": "code",
   "execution_count": 203,
   "id": "c4497566",
   "metadata": {},
   "outputs": [],
   "source": [
    "y_pred = model_DT.predict(X_test)"
   ]
  },
  {
   "cell_type": "markdown",
   "id": "e086b8e8",
   "metadata": {},
   "source": [
    "#### Prediction Comparison with the test data"
   ]
  },
  {
   "cell_type": "code",
   "execution_count": 204,
   "id": "59a6e62d",
   "metadata": {},
   "outputs": [
    {
     "data": {
      "text/html": [
       "<div>\n",
       "<style scoped>\n",
       "    .dataframe tbody tr th:only-of-type {\n",
       "        vertical-align: middle;\n",
       "    }\n",
       "\n",
       "    .dataframe tbody tr th {\n",
       "        vertical-align: top;\n",
       "    }\n",
       "\n",
       "    .dataframe thead th {\n",
       "        text-align: right;\n",
       "    }\n",
       "</style>\n",
       "<table border=\"1\" class=\"dataframe\">\n",
       "  <thead>\n",
       "    <tr style=\"text-align: right;\">\n",
       "      <th></th>\n",
       "      <th>Heart_disease</th>\n",
       "      <th>probability</th>\n",
       "      <th>predicted_Heart_disease</th>\n",
       "    </tr>\n",
       "  </thead>\n",
       "  <tbody>\n",
       "    <tr>\n",
       "      <th>3</th>\n",
       "      <td>0</td>\n",
       "      <td>1.0</td>\n",
       "      <td>1</td>\n",
       "    </tr>\n",
       "    <tr>\n",
       "      <th>93</th>\n",
       "      <td>0</td>\n",
       "      <td>0.0</td>\n",
       "      <td>0</td>\n",
       "    </tr>\n",
       "    <tr>\n",
       "      <th>221</th>\n",
       "      <td>0</td>\n",
       "      <td>1.0</td>\n",
       "      <td>1</td>\n",
       "    </tr>\n",
       "    <tr>\n",
       "      <th>239</th>\n",
       "      <td>0</td>\n",
       "      <td>0.0</td>\n",
       "      <td>0</td>\n",
       "    </tr>\n",
       "    <tr>\n",
       "      <th>281</th>\n",
       "      <td>0</td>\n",
       "      <td>0.0</td>\n",
       "      <td>0</td>\n",
       "    </tr>\n",
       "    <tr>\n",
       "      <th>34</th>\n",
       "      <td>0</td>\n",
       "      <td>0.0</td>\n",
       "      <td>0</td>\n",
       "    </tr>\n",
       "    <tr>\n",
       "      <th>66</th>\n",
       "      <td>1</td>\n",
       "      <td>0.0</td>\n",
       "      <td>0</td>\n",
       "    </tr>\n",
       "    <tr>\n",
       "      <th>236</th>\n",
       "      <td>1</td>\n",
       "      <td>1.0</td>\n",
       "      <td>1</td>\n",
       "    </tr>\n",
       "    <tr>\n",
       "      <th>1</th>\n",
       "      <td>1</td>\n",
       "      <td>1.0</td>\n",
       "      <td>1</td>\n",
       "    </tr>\n",
       "    <tr>\n",
       "      <th>64</th>\n",
       "      <td>1</td>\n",
       "      <td>1.0</td>\n",
       "      <td>1</td>\n",
       "    </tr>\n",
       "  </tbody>\n",
       "</table>\n",
       "</div>"
      ],
      "text/plain": [
       "     Heart_disease  probability  predicted_Heart_disease\n",
       "3                0          1.0                        1\n",
       "93               0          0.0                        0\n",
       "221              0          1.0                        1\n",
       "239              0          0.0                        0\n",
       "281              0          0.0                        0\n",
       "34               0          0.0                        0\n",
       "66               1          0.0                        0\n",
       "236              1          1.0                        1\n",
       "1                1          1.0                        1\n",
       "64               1          1.0                        1"
      ]
     },
     "metadata": {},
     "output_type": "display_data"
    }
   ],
   "source": [
    "y_test['probability'] = np.round(model_DT.predict_proba(X_test)[:,1], 2)\n",
    "y_test['predicted_Heart_disease'] = y_pred\n",
    "\n",
    "display(y_test.sample(10))"
   ]
  },
  {
   "cell_type": "markdown",
   "id": "e591c776",
   "metadata": {},
   "source": [
    "### Tree diagram of the Decision Tree"
   ]
  },
  {
   "cell_type": "markdown",
   "id": "cd991fc3",
   "metadata": {},
   "source": [
    "> *Visualize decision tree without GraphViz using <a href=\"https://scikit-learn.org/stable/modules/generated/sklearn.tree.plot_tree.html\">plot_tree</a> function.*"
   ]
  },
  {
   "cell_type": "code",
   "execution_count": 205,
   "id": "a9ae937f",
   "metadata": {},
   "outputs": [
    {
     "data": {
      "image/png": "[encoded data removed]",
      "text/plain": [
       "<Figure size 1800x1080 with 1 Axes>"
      ]
     },
     "metadata": {
      "needs_background": "light"
     },
     "output_type": "display_data"
    }
   ],
   "source": [
    "plt.figure(figsize = (25, 15))\n",
    "plot_tree(model_DT, \n",
    "          filled=True,\n",
    "          rounded=True,\n",
    "          class_names = [\"No Heart Disease\", \"Yes Heart Disease\"],\n",
    "          feature_names = X.columns,\n",
    "          max_depth=2, \n",
    "          fontsize=16)\n",
    "\n",
    "plt.show()"
   ]
  },
  {
   "cell_type": "markdown",
   "id": "0fee85ca",
   "metadata": {},
   "source": [
    "## Model Performance Evaluation"
   ]
  },
  {
   "cell_type": "markdown",
   "id": "284415dd",
   "metadata": {},
   "source": [
    "### Confusion Matrix"
   ]
  },
  {
   "cell_type": "code",
   "execution_count": 206,
   "id": "07d0f1c4",
   "metadata": {},
   "outputs": [
    {
     "name": "stdout",
     "output_type": "stream",
     "text": [
      "confusion_matrix: \n",
      " [[26  6]\n",
      " [ 5 23]]\n"
     ]
    }
   ],
   "source": [
    "confusion_matrix_ = confusion_matrix(y_test['Heart_disease'], \n",
    "                                     y_test['predicted_Heart_disease'])\n",
    "\n",
    "print('confusion_matrix: \\n', confusion_matrix_)"
   ]
  },
  {
   "cell_type": "code",
   "execution_count": 207,
   "id": "b5c15008",
   "metadata": {},
   "outputs": [
    {
     "data": {
      "text/plain": [
       "0    32\n",
       "1    28\n",
       "Name: Heart_disease, dtype: int64"
      ]
     },
     "execution_count": 207,
     "metadata": {},
     "output_type": "execute_result"
    }
   ],
   "source": [
    "y_test['Heart_disease'].value_counts()"
   ]
  },
  {
   "cell_type": "code",
   "execution_count": 208,
   "id": "a9cdc2ee",
   "metadata": {},
   "outputs": [
    {
     "name": "stdout",
     "output_type": "stream",
     "text": [
      "True Positives =  23\n",
      "True Negatives =  26\n",
      "False Positives =  6\n",
      "False Negatives =  5\n"
     ]
    }
   ],
   "source": [
    "TP = confusion_matrix_[1,1]\n",
    "print(\"True Positives = \", TP)\n",
    "\n",
    "TN = confusion_matrix_[0,0]\n",
    "print(\"True Negatives = \", TN)\n",
    "\n",
    "\n",
    "FP = confusion_matrix_[0,1]\n",
    "print(\"False Positives = \", FP)\n",
    "\n",
    "FN = confusion_matrix_[1,0]\n",
    "print(\"False Negatives = \", FN)"
   ]
  },
  {
   "cell_type": "code",
   "execution_count": 209,
   "id": "f51732aa",
   "metadata": {},
   "outputs": [
    {
     "data": {
      "image/png": "[encoded data removed]",
      "text/plain": [
       "<Figure size 432x288 with 2 Axes>"
      ]
     },
     "metadata": {
      "needs_background": "light"
     },
     "output_type": "display_data"
    }
   ],
   "source": [
    "plot_confusion_matrix(model_DT, \n",
    "                      X_test, \n",
    "                      y_test['Heart_disease'], \n",
    "                      display_labels=[\"Doesn't have Hd\", \"Has Hd\"],\n",
    "                      cmap='Greens')\n",
    "plt.show()"
   ]
  },
  {
   "cell_type": "code",
   "execution_count": 210,
   "id": "61af5272",
   "metadata": {},
   "outputs": [
    {
     "name": "stdout",
     "output_type": "stream",
     "text": [
      "Accuracy =  81.67 %\n"
     ]
    }
   ],
   "source": [
    "# calculate the accuracy of the model using the sklearn built-in function\n",
    "accuracy_ = accuracy_score(y_test['Heart_disease'], \n",
    "                           y_test['predicted_Heart_disease'])*100\n",
    "\n",
    "print('Accuracy = ', np.round(accuracy_, 2),\"%\") #Higher Better"
   ]
  },
  {
   "cell_type": "markdown",
   "id": "bcc05953",
   "metadata": {},
   "source": [
    "#### Precision"
   ]
  },
  {
   "cell_type": "code",
   "execution_count": 211,
   "id": "13f61aca",
   "metadata": {},
   "outputs": [
    {
     "name": "stdout",
     "output_type": "stream",
     "text": [
      "Precision =  7.9 out of 10\n",
      "Recall =  8.2 out of 10\n",
      "f1 score =  8.1 out of 10\n"
     ]
    }
   ],
   "source": [
    "precision_ = np.round(precision_score(y_test['Heart_disease'], \n",
    "                               y_test['predicted_Heart_disease']), 2)\n",
    "recall_ = np.round(recall_score(y_test['Heart_disease'], \n",
    "                               y_test['predicted_Heart_disease']), 2)\n",
    "f1_score_ = np.round(f1_score(y_test['Heart_disease'], \n",
    "                               y_test['predicted_Heart_disease']), 2)\n",
    "\n",
    "print(\"Precision = \", precision_*10,\"out of 10\") #Higher Better\n",
    "print(\"Recall = \", recall_*10,\"out of 10\") #Higher Better\n",
    "print(\"f1 score = \", np.round(f1_score_*10, 2),\"out of 10\") #Higher Better"
   ]
  },
  {
   "cell_type": "markdown",
   "id": "bb22f194",
   "metadata": {},
   "source": [
    "#### True Positive Rate, False Positive Rate"
   ]
  },
  {
   "cell_type": "code",
   "execution_count": 212,
   "id": "26bc1b6e",
   "metadata": {},
   "outputs": [
    {
     "name": "stdout",
     "output_type": "stream",
     "text": [
      "True Positive Rate =  82.0 %\n",
      "False Positive Rate =  19.0 %\n"
     ]
    }
   ],
   "source": [
    "#Threshold = 0.5\n",
    "TPR = np.round(TP/(TP+FN), 2)\n",
    "FPR = np.round(FP/(FP+TN), 2)\n",
    "\n",
    "print(\"True Positive Rate = \", TPR*100,\"%\") #Higher Better\n",
    "print(\"False Positive Rate = \", FPR*100,\"%\") # Lower Better"
   ]
  },
  {
   "cell_type": "markdown",
   "id": "bbc640a9",
   "metadata": {},
   "source": [
    "### ROC: Receiver Operating Characterisitcs and AUC: Area Under the Curve"
   ]
  },
  {
   "cell_type": "code",
   "execution_count": 213,
   "id": "8b25d0f0",
   "metadata": {},
   "outputs": [
    {
     "data": {
      "image/png": "[encoded data removed]",
      "text/plain": [
       "<Figure size 720x576 with 1 Axes>"
      ]
     },
     "metadata": {
      "needs_background": "light"
     },
     "output_type": "display_data"
    }
   ],
   "source": [
    "fpr, tpr, thr = roc_curve(y_test['Heart_disease'], \n",
    "                          y_test['predicted_Heart_disease'])\n",
    "auc = np.round(roc_auc_score(y_test['Heart_disease'], \n",
    "                             y_test['predicted_Heart_disease']), 2)\n",
    "\n",
    "plt.figure(figsize=(10, 8))\n",
    "plt.plot(fpr, \n",
    "         tpr, \n",
    "         color='green', \n",
    "         lw=2, \n",
    "         label=\"Curve Area = \" +str(auc))\n",
    "\n",
    "plt.plot([0, 1], [0, 1], color='blue', lw=2, linestyle='--')\n",
    "plt.xlabel('False Positive Rate (FPR)')\n",
    "plt.ylabel('True Positive Rate (TPR)')\n",
    "plt.title('ROC curve')\n",
    "plt.legend(loc=\"lower right\")\n",
    "plt.show()"
   ]
  },
  {
   "cell_type": "code",
   "execution_count": 214,
   "id": "45344341",
   "metadata": {},
   "outputs": [
    {
     "data": {
      "text/html": [
       "<div>\n",
       "<style scoped>\n",
       "    .dataframe tbody tr th:only-of-type {\n",
       "        vertical-align: middle;\n",
       "    }\n",
       "\n",
       "    .dataframe tbody tr th {\n",
       "        vertical-align: top;\n",
       "    }\n",
       "\n",
       "    .dataframe thead th {\n",
       "        text-align: right;\n",
       "    }\n",
       "</style>\n",
       "<table border=\"1\" class=\"dataframe\">\n",
       "  <thead>\n",
       "    <tr style=\"text-align: right;\">\n",
       "      <th></th>\n",
       "      <th>threshold</th>\n",
       "      <th>FPR</th>\n",
       "      <th>TPR</th>\n",
       "    </tr>\n",
       "  </thead>\n",
       "  <tbody>\n",
       "    <tr>\n",
       "      <th>0</th>\n",
       "      <td>2</td>\n",
       "      <td>0.0000</td>\n",
       "      <td>0.000000</td>\n",
       "    </tr>\n",
       "    <tr>\n",
       "      <th>1</th>\n",
       "      <td>1</td>\n",
       "      <td>0.1875</td>\n",
       "      <td>0.821429</td>\n",
       "    </tr>\n",
       "    <tr>\n",
       "      <th>2</th>\n",
       "      <td>0</td>\n",
       "      <td>1.0000</td>\n",
       "      <td>1.000000</td>\n",
       "    </tr>\n",
       "  </tbody>\n",
       "</table>\n",
       "</div>"
      ],
      "text/plain": [
       "   threshold     FPR       TPR\n",
       "0          2  0.0000  0.000000\n",
       "1          1  0.1875  0.821429\n",
       "2          0  1.0000  1.000000"
      ]
     },
     "metadata": {},
     "output_type": "display_data"
    }
   ],
   "source": [
    "roc_data = pd.DataFrame({\"threshold\": thr, \"FPR\": fpr, \"TPR\": tpr})\n",
    "display(roc_data.tail(10))"
   ]
  },
  {
   "cell_type": "markdown",
   "id": "a9325ab2",
   "metadata": {},
   "source": [
    "### Classification report"
   ]
  },
  {
   "cell_type": "code",
   "execution_count": 215,
   "id": "62590483",
   "metadata": {},
   "outputs": [
    {
     "name": "stdout",
     "output_type": "stream",
     "text": [
      "Classification Report: \n",
      "               precision    recall  f1-score   support\n",
      "\n",
      "           0       0.84      0.81      0.83        32\n",
      "           1       0.79      0.82      0.81        28\n",
      "\n",
      "    accuracy                           0.82        60\n",
      "   macro avg       0.82      0.82      0.82        60\n",
      "weighted avg       0.82      0.82      0.82        60\n",
      "\n"
     ]
    }
   ],
   "source": [
    "class_report = classification_report(y_test['Heart_disease'], \n",
    "                                   y_test['predicted_Heart_disease'])\n",
    "print(\"Classification Report: \\n\", class_report)"
   ]
  },
  {
   "cell_type": "markdown",
   "id": "d3fe1a54",
   "metadata": {},
   "source": [
    "## Outcome"
   ]
  },
  {
   "cell_type": "markdown",
   "id": "207fb9ff",
   "metadata": {},
   "source": [
    "**Model Result:**\n",
    "> **Model is saying 81.67 % patients has Heart Disease .**\n",
    "\n",
    "**About The Model:**\n",
    "> *We are getting the Precision value from the model is 7.9 out of 10. What should be more near to 10. The Accuracy of the model is 81.67%. If the accuracy rate would more than 85% and the precision value is greater than 8 then we can say this model is pretty good, but the model is not what.* "
   ]
  }
 ],
 "metadata": {
  "kernelspec": {
   "display_name": "Python 3",
   "language": "python",
   "name": "python3"
  },
  "language_info": {
   "codemirror_mode": {
    "name": "ipython",
    "version": 3
   },
   "file_extension": ".py",
   "mimetype": "text/x-python",
   "name": "python",
   "nbconvert_exporter": "python",
   "pygments_lexer": "ipython3",
   "version": "3.8.8"
  }
 },
 "nbformat": 4,
 "nbformat_minor": 5
}
